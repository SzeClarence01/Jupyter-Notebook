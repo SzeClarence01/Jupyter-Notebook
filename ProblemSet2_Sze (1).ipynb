{
 "cells": [
  {
   "cell_type": "markdown",
   "id": "cb856eb7",
   "metadata": {},
   "source": [
    "# Programming Logic and Design Laboratory (LBYCPA1)"
   ]
  },
  {
   "cell_type": "markdown",
   "id": "ca8cce2f",
   "metadata": {},
   "source": [
    "Before you turn this problem in, make sure everything runs as expected. First, **restart the kernel** (in the menubar, select Kernel$\\rightarrow$Restart) and then **run all cells** (in the menubar, select Cell$\\rightarrow$Run All).\n",
    "\n",
    "Make sure you fill in any place that says `YOUR CODE HERE` or `YOUR ANSWER HERE`, as well as your name and other information below inside the double quotes. Remove the line `raise NotImplementedError()` once you have answered the problem.\n",
    "\n",
    "REMINDERS: Section 4.15 of the Student Handbook (SH) 2018-2021 provides that:\n",
    "\n",
    "As a Catholic University that prepares its students to become professionals and be the resource for Church and nation, De La Salle University puts a premium on academic honesty. A student's academic requirements, such as assignments, term papers, computer programs/projects, and thesis papers, should be his/her own work. He/She must distinguish between his/her own ideas and those of other authors.\n",
    "\n",
    "The student must cite references, direct quotes, and other sources (including data obtained from tables, illustrations, figures, pictures, images, and video) following the prescribed format of the discipline. Should a student intend to submit a similar previous work for credit, in different courses, a written permission must first be obtained from the faculty members concerned. In addition, for works where he/she is only one of the authors, the following must be observed.\n",
    "\n",
    "4.15.1 Provide a disclaimer stating that the work is not entirely his/hers;\n",
    "\n",
    "4.15.2 The work cannot be published without written consent of the group of authors.\n",
    "\n",
    "4.15.3 If the work is separable (i.e. parts are clearly attributed to the individual authors), the student may use and must cite his/her own part only; otherwise, the student must seek the written consent of the group of authors.\n",
    "\n",
    "4.15.4 Computer codes obtained from open source reference may be copied freely, but the source should be cited, provided further that the faculty member allows the use of open source reference in the course."
   ]
  },
  {
   "cell_type": "markdown",
   "id": "bcf9f45d",
   "metadata": {},
   "source": [
    "## Rubric for the Final Laboratory Report\n",
    "\n",
    "|Criteria|EXEMPLARY (90-100)|SATISFACTORY (80-89)|DEVELOPING (70-79)|BEGINNING (Below 70)|WEIGHT|\n",
    "|:-|:-|:-|:-|:-|:-:|\n",
    "|**Experimental Plan (Flowchart/ Algorithm)**|Experimental plan has supporting details and diagram/algorithm that is stated and well explained|Experimental plan has supporting details and diagram/algorithm that is stated but not explained|Experimental plan is vague or brief. It has supporting details and doesn’t have diagram/algorithm|No experimental plan presented|30%|\n",
    "|**Conducting Experiment/ Activity**|Objective and Materials used (modern engineering tools, software, and instruments/equipment) are identified. Steps are easy to follow for conducting and experiment/activity|Objective is not stated. Materials used (modern engineering tools, software, and instruments/equipment) are identified. Steps are easy to follow for conducting and experiment/activity|Does not provide enough information to conduct an experiment/activity|No Objective, Materials used (modern engineering tools, software, and instruments/equipment), and steps for conducting experiment/activity provided|20%|\n",
    "|**Codes/Data/ Program**|Data is well utilized in the program. Program codes are easy to read. Program output has no error. Questions are answered completely and correctly|Data is somewhat utilized in the program. Program code are easy to read. Program output has an output but logically incorrect. Some questions are answered completely and correctly|Data is not utilized in the program. It has a missing significant code/syntax in the program|No program presented|30%|\n",
    "|**Grammar, logical presentation, and format**|The report was grammatically correct, logically presented and used the required format|The report had minimal grammatical errors and somewhat presented logically. The required format was used|The report had a lot of grammatical errors and not logically presented; the required format was barely used|The report had a lot of grammatical errors, was not logically presented and the required format was not used|20%|"
   ]
  },
  {
   "cell_type": "code",
   "execution_count": null,
   "id": "369be74e",
   "metadata": {},
   "outputs": [],
   "source": [
    "# Fill-up the following information (put inside double quotes)\n",
    "\n",
    "NAME = \"SZE, CLARENCE HARVEY B.\"                   # e.g. LIGUTAN, DINO DOMINIC F.\n",
    "STUDENT_NUMBER = \"12373338\"         # e.g. 20192118\n",
    "SECTION = \"EQ7\"                # e.g. EQ1\n",
    "DATE_TIME_COMPLETED = \"01/21/2025,10:18\"    # e.g. 03/21/2022,11:00"
   ]
  },
  {
   "cell_type": "markdown",
   "id": "db1af457",
   "metadata": {},
   "source": [
    "<hr style=\"border:1px solid black\"> </hr>"
   ]
  },
  {
   "cell_type": "markdown",
   "id": "e18d94cf",
   "metadata": {
    "deletable": false,
    "editable": false,
    "nbgrader": {
     "cell_type": "markdown",
     "checksum": "c5f919994bc47104a32e51c7d730c984",
     "grade": false,
     "grade_id": "cell-d67e30b5d7100133",
     "locked": true,
     "schema_version": 3,
     "solution": false,
     "task": false
    }
   },
   "source": [
    "# Problem Set 2\n",
    "<hr style=\"border:1px solid gray\"> </hr>"
   ]
  },
  {
   "cell_type": "markdown",
   "id": "856a9bde",
   "metadata": {
    "deletable": false,
    "editable": false,
    "nbgrader": {
     "cell_type": "markdown",
     "checksum": "387ba754d08681d1c1b4b400538a9e94",
     "grade": false,
     "grade_id": "cell-656c35d40044ad5b",
     "locked": true,
     "schema_version": 3,
     "solution": false,
     "task": false
    }
   },
   "source": [
    "1. Develop a program that will calculate the GPA on the following three courses: COEDISC, LBYCPA1, CALENG1. Refer to your course flowchart for the number of units of these courses. The formula to compute the GPA is given by:\n",
    "$$\n",
    "\\text{GPA}=\\frac{\\sum \\text{GPA}_i U_i}{\\sum U_i}\n",
    "$$\n",
    "where $\\text{GPA}_i$ is the GPA of the $i$th course and $U_i$ is the number of units for the $i$th course. A sample dialog is as follows:\n",
    "```\n",
    "Your COEDISC GPA? 3.5\n",
    "Your LBYCPA1 GPA? 2.5\n",
    "Your CALENG1 GPA? 3.0\n",
    "GPA: 2.9166666666666665\n",
    "```"
   ]
  },
  {
   "cell_type": "code",
   "execution_count": 16,
   "id": "c9704ce9",
   "metadata": {
    "deletable": false,
    "nbgrader": {
     "cell_type": "code",
     "checksum": "d83e1c8c33ec104e816bc69bf5bbb1ba",
     "grade": true,
     "grade_id": "cell-32216f35a45b784e",
     "locked": false,
     "points": 1,
     "schema_version": 3,
     "solution": true,
     "task": false
    }
   },
   "outputs": [
    {
     "name": "stdout",
     "output_type": "stream",
     "text": [
      "Your COEDISC GPA? 2.5\n",
      "Your LBYCPA1 GPA? 2.5\n",
      "Your CALENG1 GPA? 2.5\n",
      "GPA: 2.5\n"
     ]
    }
   ],
   "source": [
    "def calc_GPA3(gpa1, gpa2, gpa3, u1, u2, u3):\n",
    "    # MAKE SURE THAT THE LINES BELOW ARE INDENTED\n",
    "    # Assign the computed GPA to a variable named gpa\n",
    "    \n",
    "    gpa=(gpa1*u1 + gpa2*u2 + gpa3*u3)/ (u1+u2+u3)\n",
    "    return gpa # make sure that the result is a float\n",
    "\n",
    "# IMPLEMENT THE CODE BELOW THAT WILL HAVE THE SAME FORMAT AS THE SAMPLE DIALOG ABOVE\n",
    "# Ask for the three GPAs and store them to gpa1, gpa2, and gpa3 variables\n",
    "# Store COEDISC GPA to gpa1, LBYCPA1 GPA to gpa2, and CALENG1 GPA to gpa3\n",
    "gpa1 = float(input(\"Your COEDISC GPA? \"))\n",
    "gpa2 = float(input(\"Your LBYCPA1 GPA? \"))\n",
    "gpa3 = float(input(\"Your CALENG1 GPA? \"))\n",
    "\n",
    "# UNITS FOR EACH GPA\n",
    "u1=1\n",
    "u2=2\n",
    "u3=3\n",
    "\n",
    "# Calculate the GPA\n",
    "gpa = calc_GPA3(gpa1, gpa2, gpa3, u1, u2, u3)\n",
    "\n",
    "# Display the computed GPA\n",
    "print(\"GPA:\", gpa)"
   ]
  },
  {
   "cell_type": "code",
   "execution_count": null,
   "id": "97ebd86c",
   "metadata": {
    "deletable": false,
    "editable": false,
    "nbgrader": {
     "cell_type": "code",
     "checksum": "17ba5b4fc8bd2fc70def77ffdfe21523",
     "grade": true,
     "grade_id": "cell-a863d6410ce95310",
     "locked": true,
     "points": 1,
     "schema_version": 3,
     "solution": false,
     "task": false
    }
   },
   "outputs": [],
   "source": [
    "# DO NOT MODIFY, THIS IS UNIT TESTING!\n",
    "\n",
    "assert abs(calc_GPA3(3.5, 2.5, 3.0) - 35/12) < 1e-6\n",
    "assert abs(calc_GPA3(1.5, 3.5, 4.0) - 41/12) < 1e-6\n",
    "assert abs(calc_GPA3(4.0, 3.5, 3.0) - 10/3) < 1e-6\n",
    "\n",
    "# HIDDEN TEST"
   ]
  },
  {
   "cell_type": "markdown",
   "id": "f6e5f9a7",
   "metadata": {
    "deletable": false,
    "editable": false,
    "nbgrader": {
     "cell_type": "markdown",
     "checksum": "fdc93efc7dafdece4ff1a4db5da5f5f7",
     "grade": false,
     "grade_id": "cell-2e74313128197e3e",
     "locked": true,
     "schema_version": 3,
     "solution": false,
     "task": false
    }
   },
   "source": [
    "2. Given a set of valid lengths of the sides of a triangle, research for a formula that can be used to compute the triangle's area. Indicate the name of the formula in the code cell below.\n"
   ]
  },
  {
   "cell_type": "code",
   "execution_count": 27,
   "id": "2c64c1f3",
   "metadata": {
    "deletable": false,
    "nbgrader": {
     "cell_type": "code",
     "checksum": "a68ebd3786e7f43210b6e8388ba6fb45",
     "grade": false,
     "grade_id": "cell-2a67d9bb9ce95749",
     "locked": false,
     "schema_version": 3,
     "solution": true,
     "task": false
    }
   },
   "outputs": [],
   "source": [
    "# Indicate the name of the formula used just below this comment (put inside the double quotes)\n",
    "FORMULA_NAME = \"Heron's Formula\"\n",
    "\n",
    "from math import sqrt # Hint: You have to use the square root function\n",
    "\n",
    "def triangle_area(s1, s2, s3):\n",
    "    # The variables s1, s2, and s3 are assumed to be of float type\n",
    "    # Assign the calculated area to a variable named A\n",
    "    \n",
    "    #s is half of the perimeter\n",
    "    s=(s1+s2+s3)/2\n",
    "    \n",
    "    #calculate the area using Heron's Formula\n",
    "    A=sqrt(s*(s-s1)*(s-s2)*(s-s3))\n",
    "    \n",
    "    return A # this must be of float type as well"
   ]
  },
  {
   "cell_type": "code",
   "execution_count": 29,
   "id": "a7dafd54",
   "metadata": {
    "deletable": false,
    "editable": false,
    "nbgrader": {
     "cell_type": "code",
     "checksum": "0e9e26d6f7e202170c93b8d32e407129",
     "grade": true,
     "grade_id": "cell-0ecdfae26dbb43fd",
     "locked": true,
     "points": 2,
     "schema_version": 3,
     "solution": false,
     "task": false
    }
   },
   "outputs": [],
   "source": [
    "# DO NOT MODIFY, THIS IS UNIT TESTING!\n",
    "\n",
    "assert abs(triangle_area(3, 4, 5) - 6) < 1e-6\n",
    "assert abs(triangle_area(5, 12, 13) - 30) < 1e-6\n",
    "assert abs(triangle_area(8, 15, 17) - 60) < 1e-6\n",
    "assert abs(triangle_area(7, 24, 25) - 84) < 1e-6\n",
    "\n",
    "# HIDDEN TEST"
   ]
  },
  {
   "cell_type": "code",
   "execution_count": 28,
   "id": "722794eb",
   "metadata": {
    "deletable": false,
    "editable": false,
    "nbgrader": {
     "cell_type": "code",
     "checksum": "ad566bb59098ba930ccaf97aba5e7e0a",
     "grade": false,
     "grade_id": "cell-0784c2f91b471fde",
     "locked": true,
     "schema_version": 3,
     "solution": false,
     "task": false
    }
   },
   "outputs": [
    {
     "name": "stdout",
     "output_type": "stream",
     "text": [
      "6.0\n",
      "<class 'float'>\n"
     ]
    }
   ],
   "source": [
    "# SAMPLE TEST, DO NOT MODIFY! JUST EXECUTE ONLY FOR OUTPUT\n",
    "# You can add a cell below if you need to test a different input\n",
    "\n",
    "print(triangle_area(3, 4, 5))\n",
    "print(type(triangle_area(3, 4, 5)))"
   ]
  },
  {
   "cell_type": "markdown",
   "id": "3a438f25",
   "metadata": {
    "deletable": false,
    "editable": false,
    "nbgrader": {
     "cell_type": "markdown",
     "checksum": "c7c141e04a58dc7155450814643d7983",
     "grade": false,
     "grade_id": "cell-3b70360c4abdc847",
     "locked": true,
     "schema_version": 3,
     "solution": false,
     "task": false
    }
   },
   "source": [
    "3. Devise an algorithm and implement a code that will extract the first two digits to the right of the decimal point of a floating point number and convert it to a two-digit integer. Use arithmetic operators and type conversion functions only. Refer to the unit testing cell below for the expected output."
   ]
  },
  {
   "cell_type": "code",
   "execution_count": 34,
   "id": "3671aabc",
   "metadata": {
    "deletable": false,
    "nbgrader": {
     "cell_type": "code",
     "checksum": "310de3d8348de66044c8732b170c82c0",
     "grade": false,
     "grade_id": "cell-5bf885b89699825d",
     "locked": false,
     "schema_version": 3,
     "solution": true,
     "task": false
    }
   },
   "outputs": [],
   "source": [
    "def tenths_hundredths(num_float):\n",
    "    # Note that the variable num_float is a float\n",
    "    # The code must not use string manipulation functions, \n",
    "    # only arithmetic operations and type conversion are allowed\n",
    "    # The answer should be stored to result variable as an integer\n",
    "    \n",
    "    result=int((num_float*100) % 100)\n",
    "    \n",
    "    return result # make sure that the result is an integer"
   ]
  },
  {
   "cell_type": "code",
   "execution_count": 35,
   "id": "7c16a3d0",
   "metadata": {
    "deletable": false,
    "editable": false,
    "nbgrader": {
     "cell_type": "code",
     "checksum": "dd5ad5d2b19c71c41adff28edb7fa451",
     "grade": true,
     "grade_id": "cell-67877fb08827f061",
     "locked": true,
     "points": 2,
     "schema_version": 3,
     "solution": false,
     "task": false
    }
   },
   "outputs": [],
   "source": [
    "# DO NOT MODIFY, THIS IS UNIT TESTING!\n",
    "\n",
    "# Import math constants\n",
    "from math import pi, e\n",
    "\n",
    "assert tenths_hundredths(pi) == 14 # 3.14... -> 14\n",
    "assert tenths_hundredths(e) == 71 # 2.71... -> 71\n",
    "assert tenths_hundredths(-1) == 0 # -1.00... -> 0\n",
    "assert tenths_hundredths(abs(1j**1j)) == 20 # 0.20... -> 20\n",
    "\n",
    "# HIDDEN TEST"
   ]
  },
  {
   "cell_type": "code",
   "execution_count": 36,
   "id": "3c853b7b",
   "metadata": {
    "deletable": false,
    "editable": false,
    "nbgrader": {
     "cell_type": "code",
     "checksum": "0eeef380e5f1e6da49a61a875fa7ac79",
     "grade": false,
     "grade_id": "cell-fd3ab46b748a1278",
     "locked": true,
     "schema_version": 3,
     "solution": false,
     "task": false
    }
   },
   "outputs": [
    {
     "name": "stdout",
     "output_type": "stream",
     "text": [
      "14\n",
      "41\n"
     ]
    }
   ],
   "source": [
    "# SAMPLE TEST, DO NOT MODIFY! JUST EXECUTE ONLY FOR OUTPUT\n",
    "# You can add a cell below if you need to test a different input\n",
    "\n",
    "print(tenths_hundredths(pi))\n",
    "print(tenths_hundredths(2**0.5))"
   ]
  },
  {
   "cell_type": "markdown",
   "id": "d6b554cd",
   "metadata": {
    "deletable": false,
    "editable": false,
    "nbgrader": {
     "cell_type": "markdown",
     "checksum": "6e5ffd67d303f5b5dfbd9dc327868c50",
     "grade": false,
     "grade_id": "cell-b1216e435aa5eb73",
     "locked": true,
     "schema_version": 3,
     "solution": false,
     "task": false
    }
   },
   "source": [
    "4. Implement a code that will reverse a 3-digit number in the code cell below. Perform arithmetic operations on the num variable to reverse the digits and make sure that the result must be of string type."
   ]
  },
  {
   "cell_type": "code",
   "execution_count": 50,
   "id": "d167b4fd",
   "metadata": {
    "deletable": false,
    "nbgrader": {
     "cell_type": "code",
     "checksum": "672f6f8d34779c4b54d91b4194d4873b",
     "grade": false,
     "grade_id": "cell-ddf77fa3ab60f546",
     "locked": false,
     "schema_version": 3,
     "solution": true,
     "task": false
    }
   },
   "outputs": [],
   "source": [
    "def reverse3(num):\n",
    "    # Note that the variable num is an integer\n",
    "    # The code must not use string manipulation functions, \n",
    "    # only arithmetic operations and type conversion are allowed\n",
    "    # Hint: You need to use modulo and integer division operations\n",
    "    \n",
    "    ones=num%10\n",
    "    tens=(num//10)%10\n",
    "    hundreds=num//100\n",
    "    \n",
    "    result= str(ones) +str(tens) +str(hundreds)\n",
    "    \n",
    "    # Make sure to save the reversed digits to the result variable and\n",
    "    # convert it to a string\n",
    "    \n",
    "    return result # the result variable must be of string type"
   ]
  },
  {
   "cell_type": "code",
   "execution_count": 51,
   "id": "7ebf7659",
   "metadata": {
    "deletable": false,
    "editable": false,
    "nbgrader": {
     "cell_type": "code",
     "checksum": "2c3fb024c29d7ef0c6841bb4eeead12e",
     "grade": true,
     "grade_id": "cell-9fb1a74bdba298aa",
     "locked": true,
     "points": 2,
     "schema_version": 3,
     "solution": false,
     "task": false
    }
   },
   "outputs": [],
   "source": [
    "# DO NOT MODIFY, THIS IS UNIT TESTING!\n",
    "\n",
    "assert reverse3(143) == \"341\"\n",
    "assert reverse3(969) == \"969\"\n",
    "assert reverse3(235) == \"532\"\n",
    "\n",
    "# HIDDEN TEST"
   ]
  },
  {
   "cell_type": "code",
   "execution_count": 52,
   "id": "03f6d3b9",
   "metadata": {
    "deletable": false,
    "editable": false,
    "nbgrader": {
     "cell_type": "code",
     "checksum": "60c3c5e63fe2946c9132296e45cd8599",
     "grade": false,
     "grade_id": "cell-b97338d9e743b8e4",
     "locked": true,
     "schema_version": 3,
     "solution": false,
     "task": false
    }
   },
   "outputs": [
    {
     "name": "stdout",
     "output_type": "stream",
     "text": [
      "357\n",
      "<class 'str'>\n"
     ]
    }
   ],
   "source": [
    "# SAMPLE TEST, DO NOT MODIFY, JUST EXECUTE ONLY FOR OUTPUT\n",
    "# You can add a cell below if you need to test a different input\n",
    "\n",
    "print(reverse3(753)) # must display \"357\"\n",
    "print(type(reverse3(753))) # must display 'str'"
   ]
  },
  {
   "attachments": {
    "karel_mi.png": {
     "image/png": "[encoded data removed]"
    }
   },
   "cell_type": "markdown",
   "id": "7e714857",
   "metadata": {
    "deletable": false,
    "editable": false,
    "nbgrader": {
     "cell_type": "markdown",
     "checksum": "5acf087f72b675680a7d6695448aea47",
     "grade": false,
     "grade_id": "cell-89b3efbf31a2a6a0",
     "locked": true,
     "schema_version": 3,
     "solution": false,
     "task": false
    }
   },
   "source": [
    "5. Using Pycharm IDE, write a Python script that will command Karel to create your middle initial using beepers. For example, if your middle initial is F, it should be similar to the one below:\n",
    "![karel_mi.png](attachment:karel_mi.png)\n",
    "You can use any world size and any number of beepers. Place the screenshot of the running Karel application in the provided cell below."
   ]
  },
  {
   "cell_type": "markdown",
   "id": "6973df42",
   "metadata": {
    "deletable": false,
    "nbgrader": {
     "cell_type": "markdown",
     "checksum": "61026c3dc3e6945d7c0fa835f3ce49b9",
     "grade": true,
     "grade_id": "cell-f17ba2ccc79da39d",
     "locked": false,
     "points": 2,
     "schema_version": 3,
     "solution": true,
     "task": false
    }
   },
   "source": [
    "YOUR ANSWER HERE"
   ]
  },
  {
   "cell_type": "markdown",
   "id": "72d3911e",
   "metadata": {
    "deletable": false,
    "editable": false,
    "nbgrader": {
     "cell_type": "markdown",
     "checksum": "d6ccd36b5d21580eef677eab099f0b7f",
     "grade": false,
     "grade_id": "cell-0ff9e752fac2d30a",
     "locked": true,
     "schema_version": 3,
     "solution": false,
     "task": false
    }
   },
   "source": [
    "***"
   ]
  },
  {
   "attachments": {
    "Bernabe_Karel.png": {
     "image/png": "[encoded data removed]"
    }
   },
   "cell_type": "markdown",
   "id": "b7e50a47",
   "metadata": {},
   "source": [
    "![Bernabe_Karel.png](attachment:Bernabe_Karel.png)"
   ]
  },
  {
   "cell_type": "code",
   "execution_count": null,
   "id": "7a7bc8bd",
   "metadata": {
    "deletable": false,
    "editable": false,
    "nbgrader": {
     "cell_type": "code",
     "checksum": "d82e60be4a937b8c5b29ee42f87eaa66",
     "grade": true,
     "grade_id": "cell-8f25597853a0be36",
     "locked": true,
     "points": 0,
     "schema_version": 3,
     "solution": false,
     "task": false
    }
   },
   "outputs": [],
   "source": []
  }
 ],
 "metadata": {
  "kernelspec": {
   "display_name": "Python 3 (ipykernel)",
   "language": "python",
   "name": "python3"
  },
  "language_info": {
   "codemirror_mode": {
    "name": "ipython",
    "version": 3
   },
   "file_extension": ".py",
   "mimetype": "text/x-python",
   "name": "python",
   "nbconvert_exporter": "python",
   "pygments_lexer": "ipython3",
   "version": "3.11.5"
  }
 },
 "nbformat": 4,
 "nbformat_minor": 5
}
